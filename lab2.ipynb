{
 "cells": [
  {
   "cell_type": "markdown",
   "metadata": {},
   "source": [
    "# Lab 2: Hidden Markov Models"
   ]
  },
  {
   "cell_type": "markdown",
   "metadata": {},
   "source": [
    "### Dependencies"
   ]
  },
  {
   "cell_type": "code",
   "execution_count": 36,
   "metadata": {},
   "outputs": [],
   "source": [
    "import numpy as np\n",
    "from matplotlib import pyplot as plt\n",
    "from lab2_tools import *\n",
    "from lab2_proto import *\n",
    "import warnings\n",
    "warnings.filterwarnings(\"ignore\", category=RuntimeWarning) "
   ]
  },
  {
   "cell_type": "markdown",
   "metadata": {},
   "source": [
    "## Data & Model Set"
   ]
  },
  {
   "cell_type": "code",
   "execution_count": 6,
   "metadata": {},
   "outputs": [],
   "source": [
    "data = np.load('lab2_data.npz', allow_pickle=True)['data']"
   ]
  },
  {
   "cell_type": "code",
   "execution_count": 7,
   "metadata": {},
   "outputs": [
    {
     "data": {
      "text/plain": [
       "{'filename': '/home/giampi/corpora/tidigits/disc_4.2.1/tidigits/test/man/bm/oa.wav',\n",
       " 'samplingrate': 20000,\n",
       " 'gender': 'man',\n",
       " 'speaker': 'bm',\n",
       " 'digit': 'o',\n",
       " 'repetition': 'a',\n",
       " 'samples': array([-2, -1, -3, ..., 10,  8,  5], dtype=int16),\n",
       " 'lmfcc': array([[  64.7657709 ,  -65.84854216,   96.90766069, ...,  -19.82632821,\n",
       "           11.63249931,  159.50790488],\n",
       "        [  57.72402791,  -79.93732698,  105.80893583, ...,  -11.84501965,\n",
       "          109.29701349,  138.79176124],\n",
       "        [  62.16944867, -121.81014369,   61.89899215, ...,   13.28252915,\n",
       "         -127.7140298 , -128.75563442],\n",
       "        ...,\n",
       "        [ 190.29491187,   97.34488369,  175.61357289, ...,  -62.63035172,\n",
       "          138.96640354,   82.95734165],\n",
       "        [ 201.37123403,   80.09496653,   50.98133557, ...,  219.16711476,\n",
       "           94.41131525, -100.10312668],\n",
       "        [ 194.17067167,   70.85205455,   40.456538  , ...,   -3.81053312,\n",
       "          143.83615904,  -42.56212766]])}"
      ]
     },
     "execution_count": 7,
     "metadata": {},
     "output_type": "execute_result"
    }
   ],
   "source": [
    "data[0]"
   ]
  },
  {
   "cell_type": "code",
   "execution_count": 8,
   "metadata": {},
   "outputs": [
    {
     "name": "stdout",
     "output_type": "stream",
     "text": [
      "filename\t/home/giampi/corpora/tidigits/disc_4.2.1/tidigits/test/man/bm/oa.wav\n",
      "samplingrate\t20000\n",
      "gender\tman\n",
      "speaker\tbm\n",
      "digit\to\n",
      "repetition\ta\n",
      "samples\t(16640,)\n",
      "lmfcc\t(82, 13)\n"
     ]
    }
   ],
   "source": [
    "for x in data[0]: \n",
    "    print(x, end = '\\t')  \n",
    "    if x in ['digit', 'gender', 'filename', 'samplingrate', 'speaker', 'repetition']:\n",
    "        print(data[0].get(x))\n",
    "    else:\n",
    "        print(data[0].get(x).shape)"
   ]
  },
  {
   "cell_type": "markdown",
   "metadata": {},
   "source": [
    "### Phonetic Models"
   ]
  },
  {
   "cell_type": "code",
   "execution_count": 90,
   "metadata": {},
   "outputs": [],
   "source": [
    "phoneHMMs_onespkr = np.load('lab2_models_onespkr.npz', allow_pickle=True)['phoneHMMs'].item()"
   ]
  },
  {
   "cell_type": "code",
   "execution_count": 10,
   "metadata": {},
   "outputs": [
    {
     "name": "stdout",
     "output_type": "stream",
     "text": [
      "['ah', 'ao', 'ay', 'eh', 'ey', 'f', 'ih', 'iy', 'k', 'n', 'ow', 'r', 's', 'sil', 'sp', 't', 'th', 'uw', 'v', 'w', 'z']\t"
     ]
    }
   ],
   "source": [
    "print(list(sorted(phoneHMMs_onespkr.keys())),end = '\\t')"
   ]
  },
  {
   "cell_type": "code",
   "execution_count": 11,
   "metadata": {},
   "outputs": [
    {
     "data": {
      "text/plain": [
       "dict_keys(['name', 'startprob', 'transmat', 'means', 'covars'])"
      ]
     },
     "execution_count": 11,
     "metadata": {},
     "output_type": "execute_result"
    }
   ],
   "source": [
    "phoneHMMs_onespkr['ah'].keys()"
   ]
  },
  {
   "cell_type": "code",
   "execution_count": 12,
   "metadata": {},
   "outputs": [
    {
     "name": "stdout",
     "output_type": "stream",
     "text": [
      "f\tk\tn\tr\ts\tt\tv\tw\tz\tah\tao\tay\teh\tey\tih\tiy\tow\tsp\tth\tuw\tsil\t\n",
      " 21\n"
     ]
    }
   ],
   "source": [
    "for x in phoneHMMs_onespkr.keys(): \n",
    "    print(x, end = '\\t')\n",
    "print('\\n', len(phoneHMMs_onespkr))"
   ]
  },
  {
   "cell_type": "code",
   "execution_count": 91,
   "metadata": {},
   "outputs": [
    {
     "name": "stdout",
     "output_type": "stream",
     "text": [
      "f\tk\tn\tr\ts\tt\tv\tw\tz\tah\tao\tay\teh\tey\tih\tiy\tow\tsp\tth\tuw\tsil\t"
     ]
    }
   ],
   "source": [
    "phoneHMMs_all = np.load('lab2_models_all.npz', allow_pickle=True)['phoneHMMs'].item()\n",
    "for x in phoneHMMs_all.keys(): print(x, end = '\\t')"
   ]
  },
  {
   "cell_type": "code",
   "execution_count": 14,
   "metadata": {},
   "outputs": [
    {
     "name": "stdout",
     "output_type": "stream",
     "text": [
      "dict_keys(['name', 'startprob', 'transmat', 'means', 'covars'])\n"
     ]
    }
   ],
   "source": [
    "print(phoneHMMs_all['ah'].keys())"
   ]
  },
  {
   "cell_type": "markdown",
   "metadata": {},
   "source": [
    "### Pronunciation dictionary and utterance models"
   ]
  },
  {
   "cell_type": "code",
   "execution_count": 15,
   "metadata": {},
   "outputs": [],
   "source": [
    "prondict = {} \n",
    "prondict['o'] = ['ow']\n",
    "prondict['z'] = ['z', 'iy', 'r', 'ow']\n",
    "prondict['1'] = ['w', 'ah', 'n']\n",
    "prondict['2'] = ['t', 'uw']\n",
    "prondict['3'] = ['th', 'r', 'iy']\n",
    "prondict['4'] = ['f', 'ao', 'r']\n",
    "prondict['5'] = ['f', 'ay', 'v']\n",
    "prondict['6'] = ['s', 'ih', 'k', 's']\n",
    "prondict['7'] = ['s', 'eh', 'v', 'ah', 'n']\n",
    "prondict['8'] = ['ey', 't']\n",
    "prondict['9'] = ['n', 'ay', 'n']"
   ]
  },
  {
   "cell_type": "code",
   "execution_count": 16,
   "metadata": {},
   "outputs": [],
   "source": [
    "isolated = {}"
   ]
  },
  {
   "cell_type": "code",
   "execution_count": 17,
   "metadata": {},
   "outputs": [],
   "source": [
    "for digit in prondict.keys():\n",
    "    isolated[digit] = ['sil'] + prondict[digit] + ['sil']"
   ]
  },
  {
   "cell_type": "code",
   "execution_count": 18,
   "metadata": {},
   "outputs": [
    {
     "data": {
      "text/plain": [
       "{'o': ['sil', 'ow', 'sil'],\n",
       " 'z': ['sil', 'z', 'iy', 'r', 'ow', 'sil'],\n",
       " '1': ['sil', 'w', 'ah', 'n', 'sil'],\n",
       " '2': ['sil', 't', 'uw', 'sil'],\n",
       " '3': ['sil', 'th', 'r', 'iy', 'sil'],\n",
       " '4': ['sil', 'f', 'ao', 'r', 'sil'],\n",
       " '5': ['sil', 'f', 'ay', 'v', 'sil'],\n",
       " '6': ['sil', 's', 'ih', 'k', 's', 'sil'],\n",
       " '7': ['sil', 's', 'eh', 'v', 'ah', 'n', 'sil'],\n",
       " '8': ['sil', 'ey', 't', 'sil'],\n",
       " '9': ['sil', 'n', 'ay', 'n', 'sil']}"
      ]
     },
     "execution_count": 18,
     "metadata": {},
     "output_type": "execute_result"
    }
   ],
   "source": [
    "isolated"
   ]
  },
  {
   "cell_type": "markdown",
   "metadata": {},
   "source": [
    "## Concatenating HMMs"
   ]
  },
  {
   "cell_type": "code",
   "execution_count": 81,
   "metadata": {},
   "outputs": [],
   "source": [
    "def concatTwoHMMs(hmm1, hmm2):\n",
    "    \"\"\" Concatenates 2 HMM models\n",
    "\n",
    "    Args:\n",
    "       hmm1, hmm2: two dictionaries with the following keys:\n",
    "           name: phonetic or word symbol corresponding to the model\n",
    "           startprob: M+1 array with priori probability of state\n",
    "           transmat: (M+1)x(M+1) transition matrix\n",
    "           means: MxD array of mean vectors\n",
    "           covars: MxD array of variances\n",
    "\n",
    "    D is the dimension of the feature vectors\n",
    "    M is the number of emitting states in each HMM model (could be different for each)\n",
    "\n",
    "    Output\n",
    "       dictionary with the same keys as the input but concatenated models:\n",
    "          startprob: K+1 array with priori probability of state\n",
    "          transmat: (K+1)x(K+1) transition matrix\n",
    "             means: KxD array of mean vectors\n",
    "            covars: KxD array of variances\n",
    "\n",
    "    K is the sum of the number of emitting states from the input models\n",
    "   \n",
    "    Example:\n",
    "       twoHMMs = concatHMMs(phoneHMMs['sil'], phoneHMMs['ow'])\n",
    "\n",
    "    See also: the concatenating_hmms.pdf document in the lab package\n",
    "    \"\"\"\n",
    "    concatedHMM = {}\n",
    "    #M is the number of emitting states in each HMM model (could be different for each)\n",
    "    #K is the sum of the number of emitting states from the input models\n",
    "    \n",
    "    M1 = hmm1['means'].shape[0]\n",
    "    M2 = hmm2['means'].shape[0]\n",
    "    K = M1 + M2\n",
    "    \n",
    "    concatedHMM['name'] = hmm1['name'] + hmm2['name']\n",
    "    concatedHMM['startprob'] = np.zeros((K + 1, 1))\n",
    "    concatedHMM['transmat'] = np.zeros((K + 1, K + 1))\n",
    "    concatedHMM['means'] = np.vstack((hmm1['means'],hmm2['means']))\n",
    "    concatedHMM['covars'] = np.vstack((hmm1['covars'],hmm2['covars']))\n",
    "        \n",
    "    \n",
    "    start1 = hmm1['startprob'].reshape(-1,1)\n",
    "    start2 = hmm2['startprob'].reshape(-1,1)\n",
    "    \n",
    "    concatedHMM['startprob'][:hmm1['startprob'].shape[0]-1,:] = start1[:-1,:]\n",
    "    concatedHMM['startprob'][hmm1['startprob'].shape[0]-1:,:] = np.dot(start1[-1,0],start2)\n",
    "    trans = concatedHMM['transmat']\n",
    "    trans1 = hmm1['transmat']\n",
    "    trans2 = hmm2['transmat']\n",
    "\n",
    "    trans[:trans1.shape[0]-1,:trans1.shape[1]-1] = trans1[:-1,:-1]\n",
    "    temp = trans1[:-1,-1].reshape(-1,1)\n",
    "    trans[:trans1.shape[0]-1,trans1.shape[1]-1:] = \\\n",
    "                            np.dot(temp,start2.T)\n",
    "    trans[trans1.shape[0]-1:,trans1.shape[1]-1:] = trans2\n",
    "    concatedHMM['transmat'] = trans    \n",
    "    \n",
    "    return concatedHMM"
   ]
  },
  {
   "cell_type": "code",
   "execution_count": 80,
   "metadata": {},
   "outputs": [],
   "source": [
    "# this is already implemented, but based on concat2HMMs() above\n",
    "def concatHMMs(hmmmodels, namelist):\n",
    "    \"\"\" Concatenates HMM models in a left to right manner\n",
    "\n",
    "    Args:\n",
    "       hmmmodels: dictionary of models indexed by model name. \n",
    "       hmmmodels[name] is a dictionaries with the following keys:\n",
    "           name: phonetic or word symbol corresponding to the model\n",
    "           startprob: M+1 array with priori probability of state\n",
    "           transmat: (M+1)x(M+1) transition matrix\n",
    "           means: MxD array of mean vectors\n",
    "           covars: MxD array of variances\n",
    "       namelist: list of model names that we want to concatenate\n",
    "\n",
    "    D is the dimension of the feature vectors\n",
    "    M is the number of emitting states in each HMM model (could be\n",
    "      different in each model)\n",
    "\n",
    "    Output\n",
    "       combinedhmm: dictionary with the same keys as the input but\n",
    "                    combined models:\n",
    "         startprob: K+1 array with priori probability of state\n",
    "          transmat: (K+1)x(K+1) transition matrix\n",
    "             means: KxD array of mean vectors\n",
    "            covars: KxD array of variances\n",
    "\n",
    "    K is the sum of the number of emitting states from the input models\n",
    "\n",
    "    Example:\n",
    "       wordHMMs['o'] = concatHMMs(phoneHMMs, ['sil', 'ow', 'sil'])\n",
    "    \"\"\"\n",
    "    concat = hmmmodels[namelist[0]]\n",
    "    for idx in range(1,len(namelist)):\n",
    "        concat = concatTwoHMMs(concat, hmmmodels[namelist[idx]])\n",
    "    return concat"
   ]
  },
  {
   "cell_type": "code",
   "execution_count": 21,
   "metadata": {},
   "outputs": [],
   "source": [
    "example = np.load('lab2_example.npz', allow_pickle=True)['example'].item()"
   ]
  },
  {
   "cell_type": "code",
   "execution_count": 22,
   "metadata": {},
   "outputs": [
    {
     "name": "stdout",
     "output_type": "stream",
     "text": [
      "['filename', 'samplingrate', 'gender', 'speaker', 'digit', 'repetition', 'samples', 'lmfcc', 'obsloglik', 'logalpha', 'loglik', 'vloglik', 'vpath', 'logbeta', 'loggamma']\t"
     ]
    }
   ],
   "source": [
    "print(list(example.keys()), end='\\t')"
   ]
  },
  {
   "cell_type": "code",
   "execution_count": 23,
   "metadata": {},
   "outputs": [
    {
     "data": {
      "image/png": "[encoded data removed]",
      "text/plain": [
       "<Figure size 432x288 with 4 Axes>"
      ]
     },
     "metadata": {
      "needs_background": "light"
     },
     "output_type": "display_data"
    }
   ],
   "source": [
    "isolated = {}\n",
    "wordHMMs = {}\n",
    "for digit in prondict.keys():\n",
    "    isolated[digit] = ['sil'] + prondict[digit] + ['sil']\n",
    "    wordHMMs[digit] = concatHMMs(phoneHMMs_onespkr, isolated[digit])\n",
    "_ = plt.subplot(122).set_title(\"Transmat\")\n",
    "_ = plt.pcolormesh(wordHMMs['o']['transmat'].T)\n",
    "_ = plt.colorbar()\n",
    "_ = plt.subplot(121).set_title(\"Start\")\n",
    "_ = plt.pcolormesh(wordHMMs['o']['startprob'].T)\n",
    "_ = plt.colorbar()"
   ]
  },
  {
   "cell_type": "markdown",
   "metadata": {},
   "source": [
    "## HMM Likelihood and Recognition"
   ]
  },
  {
   "cell_type": "markdown",
   "metadata": {},
   "source": [
    "### Gaussian emission probabilities"
   ]
  },
  {
   "cell_type": "markdown",
   "metadata": {},
   "source": [
    "Plot the log likelihood for Gaussians from HMMs models corresponding to the same digit on a test utterance of your choice. What can you say about the figure? Which Gaussian components give the high likelihood in which time steps? Why? Remember that each utterance starts and ends with silence."
   ]
  },
  {
   "cell_type": "code",
   "execution_count": 25,
   "metadata": {},
   "outputs": [],
   "source": [
    "obsloglik = log_multivariate_normal_density_diag(example['lmfcc'], wordHMMs['o']['means'], wordHMMs['o']['covars'])  "
   ]
  },
  {
   "cell_type": "code",
   "execution_count": 26,
   "metadata": {},
   "outputs": [
    {
     "data": {
      "text/plain": [
       "True"
      ]
     },
     "execution_count": 26,
     "metadata": {},
     "output_type": "execute_result"
    }
   ],
   "source": [
    "np.allclose(obsloglik, example['obsloglik'])"
   ]
  },
  {
   "cell_type": "code",
   "execution_count": 39,
   "metadata": {},
   "outputs": [
    {
     "data": {
      "text/plain": [
       "dict_keys(['filename', 'samplingrate', 'gender', 'speaker', 'digit', 'repetition', 'samples', 'lmfcc', 'obsloglik', 'logalpha', 'loglik', 'vloglik', 'vpath', 'logbeta', 'loggamma'])"
      ]
     },
     "execution_count": 39,
     "metadata": {},
     "output_type": "execute_result"
    }
   ],
   "source": [
    "example.keys()"
   ]
  },
  {
   "cell_type": "code",
   "execution_count": 34,
   "metadata": {},
   "outputs": [
    {
     "data": {
      "text/plain": [
       "<matplotlib.collections.QuadMesh at 0x7ffe28570ad0>"
      ]
     },
     "execution_count": 34,
     "metadata": {},
     "output_type": "execute_result"
    },
    {
     "data": {
      "image/png": "[encoded data removed]",
      "text/plain": [
       "<Figure size 1080x216 with 2 Axes>"
      ]
     },
     "metadata": {
      "needs_background": "light"
     },
     "output_type": "display_data"
    }
   ],
   "source": [
    "plt.rcParams['figure.figsize'] = [15, 3]\n",
    "plt.subplot(121).set_title(\"Computed\")\n",
    "plt.pcolormesh(obsloglik.T)\n",
    "plt.subplot(122).set_title(\"Example\")\n",
    "plt.pcolormesh(example['obsloglik'].T)"
   ]
  },
  {
   "cell_type": "code",
   "execution_count": 50,
   "metadata": {},
   "outputs": [],
   "source": [
    "def forward(log_emlik, log_startprob, log_transmat):\n",
    "    \"\"\"Forward (alpha) probabilities in log domain.\n",
    "\n",
    "    Args:\n",
    "        log_emlik: NxM array of emission log likelihoods, N frames, M states\n",
    "        log_startprob: log probability to start in state i\n",
    "        log_transmat: log transition probability from state i to j\n",
    "\n",
    "    Output:\n",
    "        forward_prob: NxM array of forward log probabilities for each of the M states in the model\n",
    "    \"\"\"\n",
    "    alpha = np.zeros(log_emlik.shape)\n",
    "    alpha[0][:] = log_startprob.T + log_emlik[0]\n",
    "\n",
    "    for n in range(1,len(alpha)):\n",
    "        for i in range(alpha.shape[1]):\n",
    "            alpha[n, i] = logsumexp(alpha[n - 1] + log_transmat[:,i]) + log_emlik[n,i]\n",
    "    return alpha"
   ]
  },
  {
   "cell_type": "code",
   "execution_count": 51,
   "metadata": {},
   "outputs": [],
   "source": [
    "log_startprob = np.log(wordHMMs['o']['startprob'][:-1])\n",
    "log_transmat = np.log(wordHMMs['o']['transmat'][:-1,:-1])\n",
    "alpha = forward(example['obsloglik'], log_startprob, log_transmat)"
   ]
  },
  {
   "cell_type": "code",
   "execution_count": 53,
   "metadata": {},
   "outputs": [
    {
     "data": {
      "text/plain": [
       "True"
      ]
     },
     "execution_count": 53,
     "metadata": {},
     "output_type": "execute_result"
    }
   ],
   "source": [
    "np.allclose(alpha, example[\"logalpha\"])"
   ]
  },
  {
   "cell_type": "code",
   "execution_count": 54,
   "metadata": {},
   "outputs": [
    {
     "data": {
      "text/plain": [
       "<matplotlib.collections.QuadMesh at 0x7ffe2961bc50>"
      ]
     },
     "execution_count": 54,
     "metadata": {},
     "output_type": "execute_result"
    },
    {
     "data": {
      "image/png": "[encoded data removed]",
      "text/plain": [
       "<Figure size 1080x216 with 2 Axes>"
      ]
     },
     "metadata": {
      "needs_background": "light"
     },
     "output_type": "display_data"
    }
   ],
   "source": [
    "plt.rcParams['figure.figsize'] = [15, 3]\n",
    "plt.subplot(121).set_title(\"Computed\")\n",
    "plt.pcolormesh(alpha.T)\n",
    "plt.subplot(122).set_title(\"Example\")\n",
    "plt.pcolormesh(example['logalpha'].T)"
   ]
  },
  {
   "cell_type": "code",
   "execution_count": 61,
   "metadata": {},
   "outputs": [],
   "source": [
    "hmm_loglik = logsumexp(alpha[-1])"
   ]
  },
  {
   "cell_type": "code",
   "execution_count": 62,
   "metadata": {},
   "outputs": [
    {
     "data": {
      "text/plain": [
       "True"
      ]
     },
     "execution_count": 62,
     "metadata": {},
     "output_type": "execute_result"
    }
   ],
   "source": [
    "np.allclose(hmm_loglik, example[\"loglik\"])"
   ]
  },
  {
   "cell_type": "code",
   "execution_count": 82,
   "metadata": {},
   "outputs": [],
   "source": [
    "isolated = {}\n",
    "wordHMMs_all = {}\n",
    "for digit in prondict.keys():\n",
    "    isolated[digit] = ['sil'] + prondict[digit] + ['sil']\n",
    "    wordHMMs_all[digit] = concatHMMs(phoneHMMs_all, isolated[digit])"
   ]
  },
  {
   "cell_type": "code",
   "execution_count": 86,
   "metadata": {},
   "outputs": [],
   "source": [
    "%%time\n",
    "performance = np.zeros((44,11))\n",
    "no_utterance = 0\n",
    "for utterance in data:\n",
    "    no_word = 0 \n",
    "    for word in wordHMMs_all:\n",
    "        obsloglik = log_multivariate_normal_density_diag(utterance['lmfcc'], wordHMMs_all[word]['means'], wordHMMs_all[word]['covars'])  \n",
    "        log_startprob = np.log(wordHMMs_all[word]['startprob'][:-1])\n",
    "        log_transmat = np.log(wordHMMs_all[word]['transmat'][:-1,:-1])\n",
    "        alpha = forward(obsloglik, log_startprob, log_transmat) \n",
    "        hmm_loglik = logsumexp(alpha[-1]) \n",
    "        performance[no_utterance, no_word] = hmm_loglik\n",
    "        #print(int(hmm_loglik), end = \"\\t\")\n",
    "        #print(no_utterance,no_word ,end = '\\t')\n",
    "        no_word += 1\n",
    "    #print()\n",
    "    no_utterance += 1"
   ]
  },
  {
   "cell_type": "code",
   "execution_count": 88,
   "metadata": {},
   "outputs": [
    {
     "data": {
      "image/png": "[encoded data removed]",
      "text/plain": [
       "<Figure size 1080x216 with 2 Axes>"
      ]
     },
     "metadata": {
      "needs_background": "light"
     },
     "output_type": "display_data"
    }
   ],
   "source": [
    "all_words = []\n",
    "for x in wordHMMs_all: all_words.append(x)\n",
    "all_utterance = []   \n",
    "for x in data: all_utterance.append(x['digit'])\n",
    "_ = plt.rcParams['figure.figsize'] = [15, 3]\n",
    "_ = plt.subplot(111).set_title(\"Performance of HMMs\")\n",
    "_ = plt.pcolormesh(performance.T)\n",
    "_ = plt.colorbar()\n",
    "_ = plt.ylabel('Word Models')\n",
    "_ = plt.xlabel('utterances')\n",
    "_ = plt.yticks(range(len(all_words)), all_words, verticalalignment = 'bottom')\n",
    "_ = plt.xticks(range(len(all_utterance)), all_utterance, horizontalalignment = 'left')"
   ]
  },
  {
   "cell_type": "code",
   "execution_count": 89,
   "metadata": {},
   "outputs": [
    {
     "name": "stdout",
     "output_type": "stream",
     "text": [
      "Accuracy : 97.72727272727273\n"
     ]
    }
   ],
   "source": [
    "performance_max = np.copy(performance.T)\n",
    "predictions_alpha = (performance_max == performance_max.max(axis = 0,keepdims = 1))\n",
    "match = 0\n",
    "for i in range(len(all_words)):\n",
    "    for j in range(len(all_utterance)):\n",
    "        if(predictions_alpha[i,j] == True and all_words[i] == all_utterance[j]):\n",
    "            match += 1\n",
    "print(\"Accuracy :\", 100*float(match)/predictions_alpha.shape[1])"
   ]
  },
  {
   "cell_type": "code",
   "execution_count": 92,
   "metadata": {},
   "outputs": [
    {
     "name": "stdout",
     "output_type": "stream",
     "text": [
      "Accuracy : 77.27272727272727\n"
     ]
    }
   ],
   "source": [
    "isolated = {}\n",
    "wordHMMs_all = {}\n",
    "for digit in prondict.keys():\n",
    "    isolated[digit] = ['sil'] + prondict[digit] + ['sil']\n",
    "    wordHMMs_all[digit] = concatHMMs(phoneHMMs_onespkr, isolated[digit])\n",
    "\n",
    "performance = np.zeros((44,11))\n",
    "\n",
    "no_utterance = 0\n",
    "for utterance in data:\n",
    "    no_word = 0 \n",
    "    for word in wordHMMs_all:\n",
    "        obsloglik = log_multivariate_normal_density_diag(utterance['lmfcc'], wordHMMs_all[word]['means'], wordHMMs_all[word]['covars'])  \n",
    "        log_startprob = np.log(wordHMMs_all[word]['startprob'][:-1])\n",
    "        log_transmat = np.log(wordHMMs_all[word]['transmat'][:-1,:-1])\n",
    "        alpha = forward(obsloglik, log_startprob, log_transmat) \n",
    "        hmm_loglik = logsumexp(alpha[-1]) \n",
    "        performance[no_utterance, no_word] = hmm_loglik\n",
    "        #print(int(hmm_loglik), end = \"\\t\")\n",
    "        #print(no_utterance,no_word ,end = '\\t')\n",
    "        no_word += 1\n",
    "    #print()\n",
    "    no_utterance += 1\n",
    "\n",
    "all_words = []\n",
    "for x in wordHMMs_all: all_words.append(x)\n",
    "all_utterance = []   \n",
    "for x in data: all_utterance.append(x['digit'])\n",
    "\n",
    "performance_max = np.copy(performance.T)\n",
    "predictions_alpha = (performance_max == performance_max.max(axis = 0,keepdims = 1))\n",
    "match = 0\n",
    "for i in range(len(all_words)):\n",
    "    for j in range(len(all_utterance)):\n",
    "        if(predictions_alpha[i,j] == True and all_words[i] == all_utterance[j]):\n",
    "            match += 1\n",
    "print(\"Accuracy :\", 100*float(match)/predictions_alpha.shape[1])"
   ]
  },
  {
   "cell_type": "code",
   "execution_count": 93,
   "metadata": {},
   "outputs": [],
   "source": [
    "def viterbi(log_emlik, log_startprob, log_transmat, forceFinalState=True):\n",
    "    \"\"\"Viterbi path.\n",
    "\n",
    "    Args:\n",
    "        log_emlik: NxM array of emission log likelihoods, N frames, M states\n",
    "        log_startprob: log probability to start in state i\n",
    "        log_transmat: transition log probability from state i to j\n",
    "        forceFinalState: if True, start backtracking from the final state in\n",
    "                  the model, instead of the best state at the last time step\n",
    "\n",
    "    Output:\n",
    "        viterbi_loglik: log likelihood of the best path\n",
    "        viterbi_path: best path\n",
    "    \"\"\"\n",
    "    \n",
    "    N = log_emlik.shape[0]\n",
    "    M = log_emlik.shape[1]\n",
    "    \n",
    "    viterbi_path = np.empty((N), dtype=np.int)\n",
    "    viterbi_loglik = 0\n",
    "    V = np.zeros((N,M))\n",
    "    B = np.zeros((N,M))\n",
    "    \n",
    "    for j in range(M):\n",
    "        V[0, j] = log_startprob[j] + log_emlik[0,j]\n",
    "        \n",
    "    for n in range(1,N):\n",
    "        for j in range(M):\n",
    "            V[n, j] = np.max(V[n-1,:] + log_transmat[:,j]) + log_emlik[n,j]\n",
    "            B[n, j] = np.argmax(V[n-1,:] + log_transmat[:,j])\n",
    "    \n",
    "    viterbi_path[-1] = np.argmax(V[-1, :])\n",
    "    viterbi_loglik = V[N-1, viterbi_path[-1]]\n",
    "    \n",
    "    for n in range(0,N-1):\n",
    "        viterbi_path[n] += np.max(V[n-1,:])\n",
    "    \n",
    "    for n in reversed(range(N-1)):\n",
    "        for j in range(M):\n",
    "            viterbi_path[n] = B[n+1, viterbi_path[n+1]]\n",
    "            \n",
    "    return (viterbi_loglik, viterbi_path)"
   ]
  },
  {
   "cell_type": "code",
   "execution_count": 96,
   "metadata": {},
   "outputs": [],
   "source": [
    "obsloglik = log_multivariate_normal_density_diag(example['lmfcc'], wordHMMs['o']['means'], wordHMMs['o']['covars'])  \n",
    "log_startprob = np.log(wordHMMs['o']['startprob'][:-1])\n",
    "log_transmat = np.log(wordHMMs['o']['transmat'][:-1,:-1])\n",
    "alpha = forward(obsloglik, log_startprob, log_transmat) "
   ]
  },
  {
   "cell_type": "code",
   "execution_count": 97,
   "metadata": {},
   "outputs": [],
   "source": [
    "vloglik, vpath = viterbi(obsloglik, log_startprob, log_transmat)"
   ]
  },
  {
   "cell_type": "code",
   "execution_count": 98,
   "metadata": {},
   "outputs": [
    {
     "data": {
      "text/plain": [
       "True"
      ]
     },
     "execution_count": 98,
     "metadata": {},
     "output_type": "execute_result"
    }
   ],
   "source": [
    "np.allclose(vloglik, example['vloglik'])"
   ]
  },
  {
   "cell_type": "code",
   "execution_count": 99,
   "metadata": {},
   "outputs": [
    {
     "data": {
      "text/plain": [
       "True"
      ]
     },
     "execution_count": 99,
     "metadata": {},
     "output_type": "execute_result"
    }
   ],
   "source": [
    "np.allclose(vpath, example['vpath'])"
   ]
  },
  {
   "cell_type": "code",
   "execution_count": 100,
   "metadata": {},
   "outputs": [
    {
     "name": "stdout",
     "output_type": "stream",
     "text": [
      "[1 2 2 2 3 3 3 4 4 4 4 4 4 4 4 4 4 5 5 5 5 5 5 5 5 5 5 6 6 6 6 6 6 6 6 6 6\n",
      " 6 6 6 6 6 6 6 6 6 6 7 7 7 7 7 7 7 7 7 7 7 7 7 8 9 9 9 9 9 9 9 9 9 9]\n"
     ]
    },
    {
     "data": {
      "image/png": "[encoded data removed]",
      "text/plain": [
       "<Figure size 1080x216 with 2 Axes>"
      ]
     },
     "metadata": {
      "needs_background": "light"
     },
     "output_type": "display_data"
    }
   ],
   "source": [
    "_ = plt.figure(figsize=(15,3))\n",
    "_ = plt.pcolormesh(np.ma.masked_array(alpha.T))\n",
    "_ = plt.plot(vpath+0.5, linewidth = 2)\n",
    "_ = plt.colorbar()\n",
    "_ = plt.yticks(range(1,10), verticalalignment='top')\n",
    "_ = plt.xlabel('Frames in sample')\n",
    "_ = plt.ylabel('sil-o-sil (9 states)')\n",
    "print(vpath+1)"
   ]
  },
  {
   "cell_type": "markdown",
   "metadata": {},
   "source": [
    "Can you explain the reason why the path looks this way?"
   ]
  },
  {
   "cell_type": "code",
   "execution_count": 104,
   "metadata": {},
   "outputs": [],
   "source": [
    "isolated = {}\n",
    "wordHMMs_all = {}\n",
    "for digit in prondict.keys():\n",
    "    isolated[digit] = ['sil'] + prondict[digit] + ['sil']\n",
    "    wordHMMs_all[digit] = concatHMMs(phoneHMMs_all, isolated[digit])\n",
    "\n",
    "performance = np.zeros((44,11))"
   ]
  },
  {
   "cell_type": "code",
   "execution_count": 105,
   "metadata": {},
   "outputs": [
    {
     "name": "stdout",
     "output_type": "stream",
     "text": [
      "CPU times: user 9.28 s, sys: 75.3 ms, total: 9.35 s\n",
      "Wall time: 10 s\n"
     ]
    }
   ],
   "source": [
    "%%time\n",
    "warnings.filterwarnings('ignore')\n",
    "performance = np.zeros((44,11))\n",
    "#for words in wordHMMs: print(words, end = \"\\t\")\n",
    "#print()\n",
    "no_utterance = 0\n",
    "for utterance in data:\n",
    "    no_word = 0 \n",
    "    for word in wordHMMs_all:\n",
    "        obsloglik = log_multivariate_normal_density_diag(utterance['lmfcc'], wordHMMs_all[word]['means'], wordHMMs_all[word]['covars'])  \n",
    "        log_startprob = np.log(wordHMMs_all[word]['startprob'][:-1])\n",
    "        log_transmat = np.log(wordHMMs_all[word]['transmat'][:-1,:-1])\n",
    "        vloglik, vpath = viterbi(obsloglik, log_startprob, log_transmat)\n",
    "        performance[no_utterance, no_word] = vloglik\n",
    "        no_word += 1\n",
    "    no_utterance += 1"
   ]
  },
  {
   "cell_type": "code",
   "execution_count": 106,
   "metadata": {},
   "outputs": [
    {
     "name": "stdout",
     "output_type": "stream",
     "text": [
      "Accuracy : 100.0\n"
     ]
    }
   ],
   "source": [
    "all_words = []\n",
    "for x in wordHMMs_all: all_words.append(x)\n",
    "all_utterance = []   \n",
    "for x in data: all_utterance.append(x['digit'])\n",
    "performance_max = np.copy(performance.T)\n",
    "predictions_viterbi = (performance_max == performance_max.max(axis = 0,keepdims = 1))\n",
    "match = 0\n",
    "for i in range(len(all_words)):\n",
    "    for j in range(len(all_utterance)):\n",
    "        if(predictions_viterbi[i,j] == True and all_words[i] == all_utterance[j]):\n",
    "            match += 1\n",
    "print(\"Accuracy :\", 100*float(match)/predictions_viterbi.shape[1])"
   ]
  },
  {
   "cell_type": "code",
   "execution_count": 107,
   "metadata": {},
   "outputs": [],
   "source": [
    "def backward(log_emlik, log_startprob, log_transmat):\n",
    "    \"\"\"Backward (beta) probabilities in log domain.\n",
    "\n",
    "    Args:\n",
    "        log_emlik: NxM array of emission log likelihoods, N frames, M states\n",
    "        log_startprob: log probability to start in state i\n",
    "        log_transmat: transition log probability from state i to j\n",
    "\n",
    "    Output:\n",
    "        backward_prob: NxM array of backward log probabilities for each of the M states in the model\n",
    "    \"\"\"\n",
    "\n",
    "    N, M = log_emlik.shape\n",
    "    beta = np.empty((N,M))\n",
    "    beta[-1,:] = 0\n",
    "    for n in reversed(range(N-1)):\n",
    "        for i in range(M):\n",
    "            beta[n,i] = logsumexp(log_transmat[i,:] + log_emlik[n+1,:] + beta[n+1,:])\n",
    "    return beta"
   ]
  },
  {
   "cell_type": "code",
   "execution_count": 108,
   "metadata": {},
   "outputs": [],
   "source": [
    "obsloglik = log_multivariate_normal_density_diag(example['lmfcc'], wordHMMs['o']['means'], wordHMMs['o']['covars'])  \n",
    "log_startprob = np.log(wordHMMs['o']['startprob'][:-1])\n",
    "log_transmat = np.log(wordHMMs['o']['transmat'][:-1,:-1])\n",
    "beta = backward(obsloglik, log_startprob, log_transmat)"
   ]
  },
  {
   "cell_type": "code",
   "execution_count": 109,
   "metadata": {},
   "outputs": [
    {
     "data": {
      "text/plain": [
       "True"
      ]
     },
     "execution_count": 109,
     "metadata": {},
     "output_type": "execute_result"
    }
   ],
   "source": [
    "np.allclose(beta, example['logbeta'])"
   ]
  },
  {
   "cell_type": "code",
   "execution_count": 110,
   "metadata": {},
   "outputs": [
    {
     "data": {
      "text/plain": [
       "<matplotlib.collections.QuadMesh at 0x7ffe2a0bd0d0>"
      ]
     },
     "execution_count": 110,
     "metadata": {},
     "output_type": "execute_result"
    },
    {
     "data": {
      "image/png": "[encoded data removed]",
      "text/plain": [
       "<Figure size 1080x216 with 2 Axes>"
      ]
     },
     "metadata": {
      "needs_background": "light"
     },
     "output_type": "display_data"
    }
   ],
   "source": [
    "plt.rcParams['figure.figsize'] = [15, 3]\n",
    "plt.subplot(121).set_title(\"Computed\")\n",
    "plt.pcolormesh(beta.T)\n",
    "plt.subplot(122).set_title(\"Example\")\n",
    "plt.pcolormesh(example['logbeta'].T)"
   ]
  },
  {
   "cell_type": "code",
   "execution_count": 111,
   "metadata": {},
   "outputs": [],
   "source": [
    "def statePosteriors(log_alpha, log_beta):\n",
    "    \"\"\"State posterior (gamma) probabilities in log domain.\n",
    "\n",
    "    Args:\n",
    "        log_alpha: NxM array of log forward (alpha) probabilities\n",
    "        log_beta: NxM array of log backward (beta) probabilities\n",
    "    where N is the number of frames, and M the number of states\n",
    "\n",
    "    Output:\n",
    "        log_gamma: NxM array of gamma probabilities for each of the M states in the model\n",
    "    \"\"\"\n",
    "    N = len(log_alpha)\n",
    "    log_gamma = log_alpha + log_beta - logsumexp(log_alpha[N - 1])\n",
    "    return log_gamma"
   ]
  },
  {
   "cell_type": "code",
   "execution_count": 120,
   "metadata": {},
   "outputs": [],
   "source": [
    "gamma = statePosteriors(alpha, beta)"
   ]
  },
  {
   "cell_type": "code",
   "execution_count": 122,
   "metadata": {},
   "outputs": [
    {
     "data": {
      "text/plain": [
       "True"
      ]
     },
     "execution_count": 122,
     "metadata": {},
     "output_type": "execute_result"
    }
   ],
   "source": [
    "np.allclose(gamma, example['loggamma'])"
   ]
  },
  {
   "cell_type": "code",
   "execution_count": 123,
   "metadata": {},
   "outputs": [
    {
     "data": {
      "text/plain": [
       "array([1., 1., 1., 1., 1., 1., 1., 1., 1., 1., 1., 1., 1., 1., 1., 1., 1.,\n",
       "       1., 1., 1., 1., 1., 1., 1., 1., 1., 1., 1., 1., 1., 1., 1., 1., 1.,\n",
       "       1., 1., 1., 1., 1., 1., 1., 1., 1., 1., 1., 1., 1., 1., 1., 1., 1.,\n",
       "       1., 1., 1., 1., 1., 1., 1., 1., 1., 1., 1., 1., 1., 1., 1., 1., 1.,\n",
       "       1., 1., 1.])"
      ]
     },
     "execution_count": 123,
     "metadata": {},
     "output_type": "execute_result"
    }
   ],
   "source": [
    "np.sum(np.exp(gamma), axis = 1)"
   ]
  },
  {
   "cell_type": "code",
   "execution_count": 126,
   "metadata": {},
   "outputs": [
    {
     "name": "stdout",
     "output_type": "stream",
     "text": [
      "Sum of posteriors along time axis:\n",
      " [ 1.34597458  2.09555994  3.55849998  9.73752276 10.12040999 20.5329264\n",
      " 12.9968938   1.20869929  9.40351326]\n",
      "\n",
      "Sum of all posteriors: 71.00\n",
      "Length of observ seq: 71\n",
      "\n"
     ]
    },
    {
     "data": {
      "image/png": "[encoded data removed]",
      "text/plain": [
       "<Figure size 1080x216 with 2 Axes>"
      ]
     },
     "metadata": {
      "needs_background": "light"
     },
     "output_type": "display_data"
    }
   ],
   "source": [
    "gamma_gmm = obsloglik - logsumexp(obsloglik, axis=1).reshape(-1, 1)\n",
    "\n",
    "plt.rcParams['figure.figsize'] = [15, 3]\n",
    "plt.subplot(121).set_title(\"GMM\")\n",
    "plt.pcolormesh(gamma_gmm.T)\n",
    "plt.subplot(122).set_title(\"HMM\")\n",
    "plt.pcolormesh(gamma.T)\n",
    "\n",
    "\n",
    "print('Sum of posteriors along time axis:\\n', np.exp(logsumexp(gamma)))\n",
    "print()\n",
    "\n",
    "print('Sum of all posteriors: {:.2f}'.format(np.exp(logsumexp(logsumexp(gamma)))))\n",
    "print('Length of observ seq: {}'.format(len(obsloglik)))\n",
    "print()"
   ]
  },
  {
   "cell_type": "code",
   "execution_count": 127,
   "metadata": {},
   "outputs": [],
   "source": [
    "def updateMeanAndVar(X, log_gamma, varianceFloor=5.0):\n",
    "    \"\"\" Update Gaussian parameters with diagonal covariance\n",
    "\n",
    "    Args:\n",
    "         X: NxD array of feature vectors\n",
    "         log_gamma: NxM state posterior probabilities in log domain\n",
    "         varianceFloor: minimum allowed variance scalar\n",
    "    were N is the lenght of the observation sequence, D is the\n",
    "    dimensionality of the feature vectors and M is the number of\n",
    "    states in the model\n",
    "\n",
    "    Outputs:\n",
    "         means: MxD mean vectors for each state\n",
    "         covars: MxD covariance (variance) vectors for each state\n",
    "    \"\"\"\n",
    "\n",
    "    gamma = np.exp(log_gamma)\n",
    "    means = np.zeros((log_gamma.shape[1], X.shape[1]))\n",
    "    covars = np.zeros(means.shape)\n",
    "\n",
    "    for i in range(means.shape[0]):\n",
    "        gamma_sum = np.sum(gamma[:,i])\n",
    "        means[i] = np.sum(gamma[:,i].reshape(-1, 1) * X, axis = 0) / gamma_sum\n",
    "        covars[i] = np.sum(gamma[:,i].reshape(-1, 1) * (X - means[i])**2, axis = 0) / gamma_sum\n",
    "        covars[i, covars[i] < varianceFloor] = varianceFloor\n",
    "    return means, covars\n"
   ]
  },
  {
   "cell_type": "code",
   "execution_count": 128,
   "metadata": {},
   "outputs": [],
   "source": [
    "def retrain_emission_dist(utterance, wordHMM, maxiter=20, threshold=1.0):\n",
    "    loglik = []\n",
    "\n",
    "    for i in range(maxiter):\n",
    "        # E-step\n",
    "        obsloglik = log_multivariate_normal_density_diag(utterance['lmfcc'], wordHMM['means'], wordHMM['covars'])\n",
    "        logalpha, loglik_ = forward(obsloglik, np.log(wordHMM['startprob']), np.log(wordHMM['transmat']))\n",
    "        logbeta = backward(obsloglik, np.log(wordHMM['startprob']), np.log(wordHMM['transmat']))[0]\n",
    "        loggamma = statePosteriors(logalpha, logbeta)\n",
    "\n",
    "        # check termination (here to avoid running forward() two times per iteration)\n",
    "        if i > 0 and abs(loglik_ - loglik[-1]) < threshold:\n",
    "            break\n",
    "        loglik.append(loglik_)\n",
    "\n",
    "        # M-step\n",
    "        wordHMM['means'], wordHMM['covars'] = updateMeanAndVar(utterance['lmfcc'], loggamma)\n",
    "\n",
    "    return loglik"
   ]
  },
  {
   "cell_type": "code",
   "execution_count": 129,
   "metadata": {},
   "outputs": [
    {
     "ename": "ValueError",
     "evalue": "operands could not be broadcast together with shapes (1,10) (9,) ",
     "output_type": "error",
     "traceback": [
      "\u001b[0;31m---------------------------------------------------------------------------\u001b[0m",
      "\u001b[0;31mValueError\u001b[0m                                Traceback (most recent call last)",
      "\u001b[0;32m/var/folders/t6/hlfm94q93sz7p8x7djsrs8nh0000gp/T/ipykernel_15630/3986824873.py\u001b[0m in \u001b[0;36m<module>\u001b[0;34m\u001b[0m\n\u001b[1;32m      4\u001b[0m \u001b[0;32mfor\u001b[0m \u001b[0mword\u001b[0m\u001b[0;34m,\u001b[0m \u001b[0mwordHMM\u001b[0m \u001b[0;32min\u001b[0m \u001b[0mwordHMMs_all\u001b[0m\u001b[0;34m.\u001b[0m\u001b[0mitems\u001b[0m\u001b[0;34m(\u001b[0m\u001b[0;34m)\u001b[0m\u001b[0;34m:\u001b[0m\u001b[0;34m\u001b[0m\u001b[0;34m\u001b[0m\u001b[0m\n\u001b[1;32m      5\u001b[0m     \u001b[0mwordHMM\u001b[0m \u001b[0;34m=\u001b[0m \u001b[0mwordHMM\u001b[0m\u001b[0;34m.\u001b[0m\u001b[0mcopy\u001b[0m\u001b[0;34m(\u001b[0m\u001b[0;34m)\u001b[0m\u001b[0;34m\u001b[0m\u001b[0;34m\u001b[0m\u001b[0m\n\u001b[0;32m----> 6\u001b[0;31m     \u001b[0mloglik\u001b[0m \u001b[0;34m=\u001b[0m \u001b[0mretrain_emission_dist\u001b[0m\u001b[0;34m(\u001b[0m\u001b[0mutterance\u001b[0m\u001b[0;34m,\u001b[0m \u001b[0mwordHMM\u001b[0m\u001b[0;34m)\u001b[0m\u001b[0;34m\u001b[0m\u001b[0;34m\u001b[0m\u001b[0m\n\u001b[0m\u001b[1;32m      7\u001b[0m \u001b[0;34m\u001b[0m\u001b[0m\n\u001b[1;32m      8\u001b[0m     \u001b[0mplt\u001b[0m\u001b[0;34m.\u001b[0m\u001b[0mplot\u001b[0m\u001b[0;34m(\u001b[0m\u001b[0mloglik\u001b[0m\u001b[0;34m,\u001b[0m \u001b[0mlabel\u001b[0m\u001b[0;34m=\u001b[0m\u001b[0;34m'digit {}'\u001b[0m\u001b[0;34m.\u001b[0m\u001b[0mformat\u001b[0m\u001b[0;34m(\u001b[0m\u001b[0mword\u001b[0m\u001b[0;34m)\u001b[0m\u001b[0;34m)\u001b[0m\u001b[0;34m\u001b[0m\u001b[0;34m\u001b[0m\u001b[0m\n",
      "\u001b[0;32m/var/folders/t6/hlfm94q93sz7p8x7djsrs8nh0000gp/T/ipykernel_15630/1448416148.py\u001b[0m in \u001b[0;36mretrain_emission_dist\u001b[0;34m(utterance, wordHMM, maxiter, threshold)\u001b[0m\n\u001b[1;32m      5\u001b[0m         \u001b[0;31m# E-step\u001b[0m\u001b[0;34m\u001b[0m\u001b[0;34m\u001b[0m\u001b[0;34m\u001b[0m\u001b[0m\n\u001b[1;32m      6\u001b[0m         \u001b[0mobsloglik\u001b[0m \u001b[0;34m=\u001b[0m \u001b[0mlog_multivariate_normal_density_diag\u001b[0m\u001b[0;34m(\u001b[0m\u001b[0mutterance\u001b[0m\u001b[0;34m[\u001b[0m\u001b[0;34m'lmfcc'\u001b[0m\u001b[0;34m]\u001b[0m\u001b[0;34m,\u001b[0m \u001b[0mwordHMM\u001b[0m\u001b[0;34m[\u001b[0m\u001b[0;34m'means'\u001b[0m\u001b[0;34m]\u001b[0m\u001b[0;34m,\u001b[0m \u001b[0mwordHMM\u001b[0m\u001b[0;34m[\u001b[0m\u001b[0;34m'covars'\u001b[0m\u001b[0;34m]\u001b[0m\u001b[0;34m)\u001b[0m\u001b[0;34m\u001b[0m\u001b[0;34m\u001b[0m\u001b[0m\n\u001b[0;32m----> 7\u001b[0;31m         \u001b[0mlogalpha\u001b[0m\u001b[0;34m,\u001b[0m \u001b[0mloglik_\u001b[0m \u001b[0;34m=\u001b[0m \u001b[0mforward\u001b[0m\u001b[0;34m(\u001b[0m\u001b[0mobsloglik\u001b[0m\u001b[0;34m,\u001b[0m \u001b[0mnp\u001b[0m\u001b[0;34m.\u001b[0m\u001b[0mlog\u001b[0m\u001b[0;34m(\u001b[0m\u001b[0mwordHMM\u001b[0m\u001b[0;34m[\u001b[0m\u001b[0;34m'startprob'\u001b[0m\u001b[0;34m]\u001b[0m\u001b[0;34m)\u001b[0m\u001b[0;34m,\u001b[0m \u001b[0mnp\u001b[0m\u001b[0;34m.\u001b[0m\u001b[0mlog\u001b[0m\u001b[0;34m(\u001b[0m\u001b[0mwordHMM\u001b[0m\u001b[0;34m[\u001b[0m\u001b[0;34m'transmat'\u001b[0m\u001b[0;34m]\u001b[0m\u001b[0;34m)\u001b[0m\u001b[0;34m)\u001b[0m\u001b[0;34m\u001b[0m\u001b[0;34m\u001b[0m\u001b[0m\n\u001b[0m\u001b[1;32m      8\u001b[0m         \u001b[0mlogbeta\u001b[0m \u001b[0;34m=\u001b[0m \u001b[0mbackward\u001b[0m\u001b[0;34m(\u001b[0m\u001b[0mobsloglik\u001b[0m\u001b[0;34m,\u001b[0m \u001b[0mnp\u001b[0m\u001b[0;34m.\u001b[0m\u001b[0mlog\u001b[0m\u001b[0;34m(\u001b[0m\u001b[0mwordHMM\u001b[0m\u001b[0;34m[\u001b[0m\u001b[0;34m'startprob'\u001b[0m\u001b[0;34m]\u001b[0m\u001b[0;34m)\u001b[0m\u001b[0;34m,\u001b[0m \u001b[0mnp\u001b[0m\u001b[0;34m.\u001b[0m\u001b[0mlog\u001b[0m\u001b[0;34m(\u001b[0m\u001b[0mwordHMM\u001b[0m\u001b[0;34m[\u001b[0m\u001b[0;34m'transmat'\u001b[0m\u001b[0;34m]\u001b[0m\u001b[0;34m)\u001b[0m\u001b[0;34m)\u001b[0m\u001b[0;34m[\u001b[0m\u001b[0;36m0\u001b[0m\u001b[0;34m]\u001b[0m\u001b[0;34m\u001b[0m\u001b[0;34m\u001b[0m\u001b[0m\n\u001b[1;32m      9\u001b[0m         \u001b[0mloggamma\u001b[0m \u001b[0;34m=\u001b[0m \u001b[0mstatePosteriors\u001b[0m\u001b[0;34m(\u001b[0m\u001b[0mlogalpha\u001b[0m\u001b[0;34m,\u001b[0m \u001b[0mlogbeta\u001b[0m\u001b[0;34m)\u001b[0m\u001b[0;34m\u001b[0m\u001b[0;34m\u001b[0m\u001b[0m\n",
      "\u001b[0;32m/var/folders/t6/hlfm94q93sz7p8x7djsrs8nh0000gp/T/ipykernel_15630/2355884046.py\u001b[0m in \u001b[0;36mforward\u001b[0;34m(log_emlik, log_startprob, log_transmat)\u001b[0m\n\u001b[1;32m     11\u001b[0m     \"\"\"\n\u001b[1;32m     12\u001b[0m     \u001b[0malpha\u001b[0m \u001b[0;34m=\u001b[0m \u001b[0mnp\u001b[0m\u001b[0;34m.\u001b[0m\u001b[0mzeros\u001b[0m\u001b[0;34m(\u001b[0m\u001b[0mlog_emlik\u001b[0m\u001b[0;34m.\u001b[0m\u001b[0mshape\u001b[0m\u001b[0;34m)\u001b[0m\u001b[0;34m\u001b[0m\u001b[0;34m\u001b[0m\u001b[0m\n\u001b[0;32m---> 13\u001b[0;31m     \u001b[0malpha\u001b[0m\u001b[0;34m[\u001b[0m\u001b[0;36m0\u001b[0m\u001b[0;34m]\u001b[0m\u001b[0;34m[\u001b[0m\u001b[0;34m:\u001b[0m\u001b[0;34m]\u001b[0m \u001b[0;34m=\u001b[0m \u001b[0mlog_startprob\u001b[0m\u001b[0;34m.\u001b[0m\u001b[0mT\u001b[0m \u001b[0;34m+\u001b[0m \u001b[0mlog_emlik\u001b[0m\u001b[0;34m[\u001b[0m\u001b[0;36m0\u001b[0m\u001b[0;34m]\u001b[0m\u001b[0;34m\u001b[0m\u001b[0;34m\u001b[0m\u001b[0m\n\u001b[0m\u001b[1;32m     14\u001b[0m \u001b[0;34m\u001b[0m\u001b[0m\n\u001b[1;32m     15\u001b[0m     \u001b[0;32mfor\u001b[0m \u001b[0mn\u001b[0m \u001b[0;32min\u001b[0m \u001b[0mrange\u001b[0m\u001b[0;34m(\u001b[0m\u001b[0;36m1\u001b[0m\u001b[0;34m,\u001b[0m\u001b[0mlen\u001b[0m\u001b[0;34m(\u001b[0m\u001b[0malpha\u001b[0m\u001b[0;34m)\u001b[0m\u001b[0;34m)\u001b[0m\u001b[0;34m:\u001b[0m\u001b[0;34m\u001b[0m\u001b[0;34m\u001b[0m\u001b[0m\n",
      "\u001b[0;31mValueError\u001b[0m: operands could not be broadcast together with shapes (1,10) (9,) "
     ]
    },
    {
     "data": {
      "text/plain": [
       "<Figure size 1080x216 with 0 Axes>"
      ]
     },
     "metadata": {},
     "output_type": "display_data"
    }
   ],
   "source": [
    "plt.figure()\n",
    "utterance = data[10]\n",
    "\n",
    "for word, wordHMM in wordHMMs_all.items():\n",
    "    wordHMM = wordHMM.copy()\n",
    "    loglik = retrain_emission_dist(utterance, wordHMM)\n",
    "\n",
    "    plt.plot(loglik, label='digit {}'.format(word))\n",
    "    plt.xlabel('# iterations')\n",
    "    plt.ylabel('log-likelihood')\n",
    "    plt.title(\"Learning curve (only emission distributions, utterance of '{}')\".format(utterance['digit']))\n",
    "plt.legend()"
   ]
  },
  {
   "cell_type": "code",
   "execution_count": null,
   "metadata": {},
   "outputs": [],
   "source": []
  }
 ],
 "metadata": {
  "interpreter": {
   "hash": "f8be14dcf08fc1a341c6b5eaa1b2410954edcad7f04154ea81951bc2b17c111b"
  },
  "kernelspec": {
   "display_name": "Python 3.7.13 ('speech-rec')",
   "language": "python",
   "name": "python3"
  },
  "language_info": {
   "codemirror_mode": {
    "name": "ipython",
    "version": 3
   },
   "file_extension": ".py",
   "mimetype": "text/x-python",
   "name": "python",
   "nbconvert_exporter": "python",
   "pygments_lexer": "ipython3",
   "version": "3.7.13"
  },
  "orig_nbformat": 4
 },
 "nbformat": 4,
 "nbformat_minor": 2
}
