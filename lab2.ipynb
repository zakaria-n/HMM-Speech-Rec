{
 "cells": [
  {
   "cell_type": "markdown",
   "metadata": {},
   "source": [
    "# Lab 2: Hidden Markov Models"
   ]
  },
  {
   "cell_type": "markdown",
   "metadata": {},
   "source": [
    "### Dependencies"
   ]
  },
  {
   "cell_type": "code",
   "execution_count": 23,
   "metadata": {},
   "outputs": [],
   "source": [
    "import numpy as np\n",
    "from matplotlib import pyplot as plt\n",
    "from lab2_tools import *\n",
    "from lab2_proto import *"
   ]
  },
  {
   "cell_type": "markdown",
   "metadata": {},
   "source": [
    "## Data & Model Set"
   ]
  },
  {
   "cell_type": "code",
   "execution_count": 2,
   "metadata": {},
   "outputs": [],
   "source": [
    "data = np.load('lab2_data.npz', allow_pickle=True)['data']"
   ]
  },
  {
   "cell_type": "code",
   "execution_count": 3,
   "metadata": {},
   "outputs": [
    {
     "data": {
      "text/plain": [
       "{'filename': '/home/giampi/corpora/tidigits/disc_4.2.1/tidigits/test/man/bm/oa.wav',\n",
       " 'samplingrate': 20000,\n",
       " 'gender': 'man',\n",
       " 'speaker': 'bm',\n",
       " 'digit': 'o',\n",
       " 'repetition': 'a',\n",
       " 'samples': array([-2, -1, -3, ..., 10,  8,  5], dtype=int16),\n",
       " 'lmfcc': array([[  64.7657709 ,  -65.84854216,   96.90766069, ...,  -19.82632821,\n",
       "           11.63249931,  159.50790488],\n",
       "        [  57.72402791,  -79.93732698,  105.80893583, ...,  -11.84501965,\n",
       "          109.29701349,  138.79176124],\n",
       "        [  62.16944867, -121.81014369,   61.89899215, ...,   13.28252915,\n",
       "         -127.7140298 , -128.75563442],\n",
       "        ...,\n",
       "        [ 190.29491187,   97.34488369,  175.61357289, ...,  -62.63035172,\n",
       "          138.96640354,   82.95734165],\n",
       "        [ 201.37123403,   80.09496653,   50.98133557, ...,  219.16711476,\n",
       "           94.41131525, -100.10312668],\n",
       "        [ 194.17067167,   70.85205455,   40.456538  , ...,   -3.81053312,\n",
       "          143.83615904,  -42.56212766]])}"
      ]
     },
     "execution_count": 3,
     "metadata": {},
     "output_type": "execute_result"
    }
   ],
   "source": [
    "data[0]"
   ]
  },
  {
   "cell_type": "code",
   "execution_count": 4,
   "metadata": {},
   "outputs": [
    {
     "name": "stdout",
     "output_type": "stream",
     "text": [
      "filename\t/home/giampi/corpora/tidigits/disc_4.2.1/tidigits/test/man/bm/oa.wav\n",
      "samplingrate\t20000\n",
      "gender\tman\n",
      "speaker\tbm\n",
      "digit\to\n",
      "repetition\ta\n",
      "samples\t(16640,)\n",
      "lmfcc\t(82, 13)\n"
     ]
    }
   ],
   "source": [
    "for x in data[0]: \n",
    "    print(x, end = '\\t')  \n",
    "    if x in ['digit', 'gender', 'filename', 'samplingrate', 'speaker', 'repetition']:\n",
    "        print(data[0].get(x))\n",
    "    else:\n",
    "        print(data[0].get(x).shape)"
   ]
  },
  {
   "cell_type": "markdown",
   "metadata": {},
   "source": [
    "### Phonetic Models"
   ]
  },
  {
   "cell_type": "code",
   "execution_count": 5,
   "metadata": {},
   "outputs": [],
   "source": [
    "phoneHMMs_onespkr = np.load('lab2_models_onespkr.npz', allow_pickle=True)['phoneHMMs'].item()"
   ]
  },
  {
   "cell_type": "code",
   "execution_count": 6,
   "metadata": {},
   "outputs": [
    {
     "name": "stdout",
     "output_type": "stream",
     "text": [
      "['ah', 'ao', 'ay', 'eh', 'ey', 'f', 'ih', 'iy', 'k', 'n', 'ow', 'r', 's', 'sil', 'sp', 't', 'th', 'uw', 'v', 'w', 'z']\t"
     ]
    }
   ],
   "source": [
    "print(list(sorted(phoneHMMs_onespkr.keys())),end = '\\t')"
   ]
  },
  {
   "cell_type": "code",
   "execution_count": 7,
   "metadata": {},
   "outputs": [
    {
     "data": {
      "text/plain": [
       "dict_keys(['name', 'startprob', 'transmat', 'means', 'covars'])"
      ]
     },
     "execution_count": 7,
     "metadata": {},
     "output_type": "execute_result"
    }
   ],
   "source": [
    "phoneHMMs_onespkr['ah'].keys()"
   ]
  },
  {
   "cell_type": "code",
   "execution_count": 8,
   "metadata": {},
   "outputs": [
    {
     "name": "stdout",
     "output_type": "stream",
     "text": [
      "f\tk\tn\tr\ts\tt\tv\tw\tz\tah\tao\tay\teh\tey\tih\tiy\tow\tsp\tth\tuw\tsil\t\n",
      " 21\n"
     ]
    }
   ],
   "source": [
    "for x in phoneHMMs_onespkr.keys(): \n",
    "    print(x, end = '\\t')\n",
    "print('\\n', len(phoneHMMs_onespkr))"
   ]
  },
  {
   "cell_type": "code",
   "execution_count": 9,
   "metadata": {},
   "outputs": [
    {
     "name": "stdout",
     "output_type": "stream",
     "text": [
      "f\tk\tn\tr\ts\tt\tv\tw\tz\tah\tao\tay\teh\tey\tih\tiy\tow\tsp\tth\tuw\tsil\t"
     ]
    }
   ],
   "source": [
    "phoneHMMs_all = np.load('lab2_models_all.npz', allow_pickle=True)['phoneHMMs'].item()\n",
    "for x in phoneHMMs_all.keys(): print(x, end = '\\t')"
   ]
  },
  {
   "cell_type": "code",
   "execution_count": 10,
   "metadata": {},
   "outputs": [
    {
     "name": "stdout",
     "output_type": "stream",
     "text": [
      "dict_keys(['name', 'startprob', 'transmat', 'means', 'covars'])\n"
     ]
    }
   ],
   "source": [
    "print(phoneHMMs_all['ah'].keys())"
   ]
  },
  {
   "cell_type": "markdown",
   "metadata": {},
   "source": [
    "### Pronunciation dictionary and utterance models"
   ]
  },
  {
   "cell_type": "code",
   "execution_count": 11,
   "metadata": {},
   "outputs": [],
   "source": [
    "prondict = {} \n",
    "prondict['o'] = ['ow']\n",
    "prondict['z'] = ['z', 'iy', 'r', 'ow']\n",
    "prondict['1'] = ['w', 'ah', 'n']\n",
    "prondict['2'] = ['t', 'uw']\n",
    "prondict['3'] = ['th', 'r', 'iy']\n",
    "prondict['4'] = ['f', 'ao', 'r']\n",
    "prondict['5'] = ['f', 'ay', 'v']\n",
    "prondict['6'] = ['s', 'ih', 'k', 's']\n",
    "prondict['7'] = ['s', 'eh', 'v', 'ah', 'n']\n",
    "prondict['8'] = ['ey', 't']\n",
    "prondict['9'] = ['n', 'ay', 'n']"
   ]
  },
  {
   "cell_type": "code",
   "execution_count": 12,
   "metadata": {},
   "outputs": [],
   "source": [
    "isolated = {}"
   ]
  },
  {
   "cell_type": "code",
   "execution_count": 13,
   "metadata": {},
   "outputs": [],
   "source": [
    "for digit in prondict.keys():\n",
    "    isolated[digit] = ['sil'] + prondict[digit] + ['sil']"
   ]
  },
  {
   "cell_type": "code",
   "execution_count": 14,
   "metadata": {},
   "outputs": [
    {
     "data": {
      "text/plain": [
       "{'o': ['sil', 'ow', 'sil'],\n",
       " 'z': ['sil', 'z', 'iy', 'r', 'ow', 'sil'],\n",
       " '1': ['sil', 'w', 'ah', 'n', 'sil'],\n",
       " '2': ['sil', 't', 'uw', 'sil'],\n",
       " '3': ['sil', 'th', 'r', 'iy', 'sil'],\n",
       " '4': ['sil', 'f', 'ao', 'r', 'sil'],\n",
       " '5': ['sil', 'f', 'ay', 'v', 'sil'],\n",
       " '6': ['sil', 's', 'ih', 'k', 's', 'sil'],\n",
       " '7': ['sil', 's', 'eh', 'v', 'ah', 'n', 'sil'],\n",
       " '8': ['sil', 'ey', 't', 'sil'],\n",
       " '9': ['sil', 'n', 'ay', 'n', 'sil']}"
      ]
     },
     "execution_count": 14,
     "metadata": {},
     "output_type": "execute_result"
    }
   ],
   "source": [
    "isolated"
   ]
  },
  {
   "cell_type": "markdown",
   "metadata": {},
   "source": [
    "## Concatenating HMMs"
   ]
  },
  {
   "cell_type": "code",
   "execution_count": 15,
   "metadata": {},
   "outputs": [],
   "source": [
    "def concatTwoHMMs(hmm1, hmm2):\n",
    "    \"\"\" Concatenates 2 HMM models\n",
    "\n",
    "    Args:\n",
    "       hmm1, hmm2: two dictionaries with the following keys:\n",
    "           name: phonetic or word symbol corresponding to the model\n",
    "           startprob: M+1 array with priori probability of state\n",
    "           transmat: (M+1)x(M+1) transition matrix\n",
    "           means: MxD array of mean vectors\n",
    "           covars: MxD array of variances\n",
    "\n",
    "    D is the dimension of the feature vectors\n",
    "    M is the number of emitting states in each HMM model (could be different for each)\n",
    "\n",
    "    Output\n",
    "       dictionary with the same keys as the input but concatenated models:\n",
    "          startprob: K+1 array with priori probability of state\n",
    "          transmat: (K+1)x(K+1) transition matrix\n",
    "             means: KxD array of mean vectors\n",
    "            covars: KxD array of variances\n",
    "\n",
    "    K is the sum of the number of emitting states from the input models\n",
    "   \n",
    "    Example:\n",
    "       twoHMMs = concatHMMs(phoneHMMs['sil'], phoneHMMs['ow'])\n",
    "\n",
    "    See also: the concatenating_hmms.pdf document in the lab package\n",
    "    \"\"\"\n",
    "    concatedHMM = {}\n",
    "    #M is the number of emitting states in each HMM model (could be different for each)\n",
    "    #K is the sum of the number of emitting states from the input models\n",
    "    \n",
    "    M1 = hmm1['means'].shape[0]\n",
    "    M2 = hmm2['means'].shape[0]\n",
    "    K = M1 + M2\n",
    "    \n",
    "    concatedHMM['name'] = hmm1['name'] + hmm2['name']\n",
    "    concatedHMM['startprob'] = np.zeros((K + 1, 1))\n",
    "    concatedHMM['transmat'] = np.zeros((K + 1, K + 1))\n",
    "    concatedHMM['means'] = np.vstack((hmm1['means'],hmm2['means']))\n",
    "    concatedHMM['covars'] = np.vstack((hmm1['covars'],hmm2['covars']))\n",
    "        \n",
    "    \n",
    "    start1 = hmm1['startprob'].reshape(-1,1)\n",
    "    start2 = hmm2['startprob'].reshape(-1,1)\n",
    "    \n",
    "    concatedHMM['startprob'][:hmm1['startprob'].shape[0]-1,:] = start1[:-1,:]\n",
    "    concatedHMM['startprob'][hmm1['startprob'].shape[0]-1:,:] = np.dot(start1[-1,0],start2)\n",
    "    trans = concatedHMM['transmat']\n",
    "    trans1 = hmm1['transmat']\n",
    "    trans2 = hmm2['transmat']\n",
    "\n",
    "    trans[:trans1.shape[0]-1,:trans1.shape[1]-1] = trans1[:-1,:-1]\n",
    "    temp = trans1[:-1,-1].reshape(-1,1)\n",
    "    trans[:trans1.shape[0]-1,trans1.shape[1]-1:] = \\\n",
    "                            np.dot(temp,start2.T)\n",
    "    trans[trans1.shape[0]-1:,trans1.shape[1]-1:] = trans2\n",
    "    concatedHMM['transmat'] = trans    \n",
    "    \n",
    "    return concatedHMM"
   ]
  },
  {
   "cell_type": "code",
   "execution_count": 16,
   "metadata": {},
   "outputs": [],
   "source": [
    "# this is already implemented, but based on concat2HMMs() above\n",
    "def concatHMMs(hmmmodels, namelist):\n",
    "    \"\"\" Concatenates HMM models in a left to right manner\n",
    "\n",
    "    Args:\n",
    "       hmmmodels: dictionary of models indexed by model name. \n",
    "       hmmmodels[name] is a dictionaries with the following keys:\n",
    "           name: phonetic or word symbol corresponding to the model\n",
    "           startprob: M+1 array with priori probability of state\n",
    "           transmat: (M+1)x(M+1) transition matrix\n",
    "           means: MxD array of mean vectors\n",
    "           covars: MxD array of variances\n",
    "       namelist: list of model names that we want to concatenate\n",
    "\n",
    "    D is the dimension of the feature vectors\n",
    "    M is the number of emitting states in each HMM model (could be\n",
    "      different in each model)\n",
    "\n",
    "    Output\n",
    "       combinedhmm: dictionary with the same keys as the input but\n",
    "                    combined models:\n",
    "         startprob: K+1 array with priori probability of state\n",
    "          transmat: (K+1)x(K+1) transition matrix\n",
    "             means: KxD array of mean vectors\n",
    "            covars: KxD array of variances\n",
    "\n",
    "    K is the sum of the number of emitting states from the input models\n",
    "\n",
    "    Example:\n",
    "       wordHMMs['o'] = concatHMMs(phoneHMMs, ['sil', 'ow', 'sil'])\n",
    "    \"\"\"\n",
    "    concat = hmmmodels[namelist[0]]\n",
    "    for idx in range(1,len(namelist)):\n",
    "        concat = concatTwoHMMs(concat, hmmmodels[namelist[idx]])\n",
    "    return concat"
   ]
  },
  {
   "cell_type": "code",
   "execution_count": 17,
   "metadata": {},
   "outputs": [],
   "source": [
    "example = np.load('lab2_example.npz', allow_pickle=True)['example'].item()"
   ]
  },
  {
   "cell_type": "code",
   "execution_count": 19,
   "metadata": {},
   "outputs": [
    {
     "name": "stdout",
     "output_type": "stream",
     "text": [
      "['filename', 'samplingrate', 'gender', 'speaker', 'digit', 'repetition', 'samples', 'lmfcc', 'obsloglik', 'logalpha', 'loglik', 'vloglik', 'vpath', 'logbeta', 'loggamma']\t"
     ]
    }
   ],
   "source": [
    "print(list(example.keys()), end='\\t')"
   ]
  },
  {
   "cell_type": "code",
   "execution_count": 21,
   "metadata": {},
   "outputs": [
    {
     "data": {
      "image/png": "[encoded data removed]",
      "text/plain": [
       "<Figure size 432x288 with 4 Axes>"
      ]
     },
     "metadata": {
      "needs_background": "light"
     },
     "output_type": "display_data"
    }
   ],
   "source": [
    "isolated = {}\n",
    "wordHMMs = {}\n",
    "for digit in prondict.keys():\n",
    "    isolated[digit] = ['sil'] + prondict[digit] + ['sil']\n",
    "    wordHMMs[digit] = concatHMMs(phoneHMMs_onespkr, isolated[digit])\n",
    "_ = plt.subplot(122).set_title(\"Transmat\")\n",
    "_ = plt.pcolormesh(wordHMMs['o']['transmat'].T)\n",
    "_ = plt.colorbar()\n",
    "_ = plt.subplot(121).set_title(\"Start\")\n",
    "_ = plt.pcolormesh(wordHMMs['o']['startprob'].T)\n",
    "_ = plt.colorbar()"
   ]
  },
  {
   "cell_type": "markdown",
   "metadata": {},
   "source": [
    "## HMM Likelihood and Recognition"
   ]
  },
  {
   "cell_type": "markdown",
   "metadata": {},
   "source": [
    "### Gaussian emission probabilities"
   ]
  },
  {
   "cell_type": "markdown",
   "metadata": {},
   "source": [
    "Plot the log likelihood for Gaussians from HMMs models corresponding to the same digit on a test utterance of your choice. What can you say about the figure? Which Gaussian components give the high likelihood in which time steps? Why? Remember that each utterance starts and ends with silence."
   ]
  },
  {
   "cell_type": "code",
   "execution_count": 26,
   "metadata": {},
   "outputs": [],
   "source": [
    "obsloglik = log_multivariate_normal_density_diag(example['lmfcc'], wordHMMs['o']['means'], wordHMMs['o']['covars'])  "
   ]
  },
  {
   "cell_type": "code",
   "execution_count": 27,
   "metadata": {},
   "outputs": [
    {
     "data": {
      "text/plain": [
       "True"
      ]
     },
     "execution_count": 27,
     "metadata": {},
     "output_type": "execute_result"
    }
   ],
   "source": [
    "np.allclose(obsloglik, example['obsloglik'])"
   ]
  },
  {
   "cell_type": "code",
   "execution_count": 28,
   "metadata": {},
   "outputs": [
    {
     "data": {
      "text/plain": [
       "<matplotlib.collections.QuadMesh at 0x11209d760>"
      ]
     },
     "execution_count": 28,
     "metadata": {},
     "output_type": "execute_result"
    },
    {
     "data": {
      "image/png": "[encoded data removed]",
      "text/plain": [
       "<Figure size 1080x216 with 1 Axes>"
      ]
     },
     "metadata": {
      "needs_background": "light"
     },
     "output_type": "display_data"
    }
   ],
   "source": [
    "plt.rcParams['figure.figsize'] = [15, 3]\n",
    "plt.subplot(121).set_title(\"Observation Likelihood\")\n",
    "plt.pcolormesh(obsloglik.T)"
   ]
  },
  {
   "cell_type": "code",
   "execution_count": 25,
   "metadata": {},
   "outputs": [],
   "source": [
    "def forward(log_emlik, log_startprob, log_transmat):\n",
    "    \"\"\"Forward (alpha) probabilities in log domain.\n",
    "\n",
    "    Args:\n",
    "        log_emlik: NxM array of emission log likelihoods, N frames, M states\n",
    "        log_startprob: log probability to start in state i\n",
    "        log_transmat: log transition probability from state i to j\n",
    "\n",
    "    Output:\n",
    "        forward_prob: NxM array of forward log probabilities for each of the M states in the model\n",
    "    \"\"\"\n",
    "    alpha = np.zeros(log_emlik.shape)\n",
    "    alpha[0][:] = log_startprob.T + log_emlik[0]\n",
    "\n",
    "    for n in range(1,len(alpha)):\n",
    "        for i in range(alpha.shape[1]):\n",
    "            alpha[n, i] = logsumexp(alpha[n - 1] + log_transmat[:,i]) + log_emlik[n,i]\n",
    "    return alpha"
   ]
  },
  {
   "cell_type": "code",
   "execution_count": null,
   "metadata": {},
   "outputs": [],
   "source": []
  }
 ],
 "metadata": {
  "interpreter": {
   "hash": "31f2aee4e71d21fbe5cf8b01ff0e069b9275f58929596ceb00d14d90e3e16cd6"
  },
  "kernelspec": {
   "display_name": "Python 3.8.2 64-bit",
   "language": "python",
   "name": "python3"
  },
  "language_info": {
   "codemirror_mode": {
    "name": "ipython",
    "version": 3
   },
   "file_extension": ".py",
   "mimetype": "text/x-python",
   "name": "python",
   "nbconvert_exporter": "python",
   "pygments_lexer": "ipython3",
   "version": "3.8.2"
  },
  "orig_nbformat": 4
 },
 "nbformat": 4,
 "nbformat_minor": 2
}
